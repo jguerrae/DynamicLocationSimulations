{
 "cells": [
  {
   "cell_type": "code",
   "execution_count": 7,
   "metadata": {},
   "outputs": [],
   "source": [
    "import pandas as pd\r\n",
    "import numpy as np"
   ]
  },
  {
   "cell_type": "code",
   "execution_count": 8,
   "metadata": {},
   "outputs": [],
   "source": [
    "df = pd.read_stata(\"base_ceros.dta\")"
   ]
  },
  {
   "cell_type": "code",
   "execution_count": 9,
   "metadata": {},
   "outputs": [],
   "source": [
    "def percentil(numero):\r\n",
    "    k = np.nan\r\n",
    "    l = [0, 10, 20, 30, 40, 50, 60, 70, 80, 90, 100]\r\n",
    "\r\n",
    "    for i in range(len(l)):\r\n",
    "        # print(l[i], l[i+1])\r\n",
    "        if l[i]<100:\r\n",
    "\r\n",
    "            if numero >= l[i] and numero < l[i+1]:\r\n",
    "                k = str(f\"p{l[i]}-{l[i+1]}\")\r\n",
    "\r\n",
    "        if numero >= 100:\r\n",
    "            k = str(f\"p>100\")\r\n",
    "\r\n",
    "    return k\r\n",
    "\r\n",
    "df[\"decil\"] = df[\"ks_d2\"].apply(lambda x: percentil(x))\r\n"
   ]
  },
  {
   "cell_type": "code",
   "execution_count": 10,
   "metadata": {},
   "outputs": [],
   "source": [
    "percentil = (df.groupby(\"decil\")[\"year\"].count() / df.groupby(\"decil\")[\"year\"].count().sum())*100\r\n",
    "percentil = percentil.reset_index()\r\n",
    "percentil[\"total\"] = percentil[\"year\"] * df.groupby(\"decil\")[\"year\"].count().sum()\r\n",
    "percentil = percentil.set_index(\"decil\")\r\n",
    "percentil.columns = [\"share\", \"total\"]"
   ]
  },
  {
   "cell_type": "code",
   "execution_count": 11,
   "metadata": {},
   "outputs": [],
   "source": [
    "percentil.to_excel(\"percentil.xlsx\")"
   ]
  },
  {
   "cell_type": "code",
   "execution_count": null,
   "metadata": {},
   "outputs": [],
   "source": []
  }
 ],
 "metadata": {
  "kernelspec": {
   "display_name": "Python 3.8.5 64-bit ('base': conda)",
   "name": "python385jvsc74a57bd006cb5fed7a19db1a3b234843391dc1a69eede94e92f070202b04797e91c1cb37"
  },
  "language_info": {
   "codemirror_mode": {
    "name": "ipython",
    "version": 3
   },
   "file_extension": ".py",
   "mimetype": "text/x-python",
   "name": "python",
   "nbconvert_exporter": "python",
   "pygments_lexer": "ipython3",
   "version": "3.8.5"
  },
  "orig_nbformat": 2
 },
 "nbformat": 4,
 "nbformat_minor": 2
}