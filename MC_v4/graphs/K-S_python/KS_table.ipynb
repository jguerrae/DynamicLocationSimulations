{
 "cells": [
  {
   "cell_type": "code",
   "execution_count": 116,
   "metadata": {},
   "outputs": [],
   "source": [
    "#PAQUETES NECESARIOS\r\n",
    "\r\n",
    "import pandas as pd\r\n",
    "import numpy as np\r\n",
    "import matplotlib.pyplot as plt\r\n",
    "import matplotlib\r\n",
    "\r\n",
    "from scipy import stats\r\n",
    "\r\n",
    "import itertools\r\n",
    "\r\n",
    "#PRUEBA\r\n"
   ]
  },
  {
   "cell_type": "code",
   "execution_count": 117,
   "metadata": {},
   "outputs": [],
   "source": [
    "dfs = [\"1\", \"1_n\", \"2\", \"2_n\", \"3\", \"3_n\", \"lq_ipolate_complete\"]\r\n",
    "names = [\"ks_s\", \"ks_d\", \"mkt_s\", \"mkt_d\", \"nestab_s\", \"nestab_d\", \"lq\"]"
   ]
  },
  {
   "cell_type": "code",
   "execution_count": 118,
   "metadata": {},
   "outputs": [
    {
     "data": {
      "text/plain": "0        0\n1        0\n2        1\n3        1\n4        0\n        ..\n69295    1\n69296    0\n69297    1\n69298    0\n69299    1\nName: time, Length: 69300, dtype: int64"
     },
     "execution_count": 118,
     "metadata": {},
     "output_type": "execute_result"
    }
   ],
   "source": [
    "df1[\"time\"]"
   ]
  },
  {
   "cell_type": "code",
   "execution_count": 119,
   "metadata": {},
   "outputs": [],
   "source": [
    "#IMPORTAR A 1\r\n",
    "df1 = pd.read_stata(\"1.dta\")\r\n",
    "df1 = df1[[\"year\", \"cfips\", \"a\", \"activity\"]]\r\n",
    "df1[\"time\"] = df1[\"year\"].apply(lambda x: 1 if x<1909 else 0)\r\n",
    "\r\n",
    "\r\n",
    "#LOOP PARA UNIRLOS\r\n",
    "for i,e in zip(dfs,names):\r\n",
    "    df2 = pd.read_stata(f\"{i}.dta\")\r\n",
    "    df2 = df2[~(df2[\"copB2_3\"].isna())]\r\n",
    "    df2 = df2[[\"year\", \"cfips\", \"a\", \"activity\", \"copB2_3\"]]\r\n",
    "    df2.rename(columns = {\"copB2_3\": f\"{e}\"}, inplace = True)\r\n",
    "    df1 = pd.merge(df1, df2, \"left\", on = [\"year\", \"cfips\", \"a\", \"activity\"])"
   ]
  },
  {
   "cell_type": "code",
   "execution_count": null,
   "metadata": {},
   "outputs": [],
   "source": [
    "#DF ACTIVITY\r\n",
    "df_ac = df1[df1[\"activity\"]==1]\r\n",
    "\r\n",
    "#DF OBS\r\n",
    "df_a = df1[df1[\"a\"]>0]\r\n",
    "\r\n",
    "#DF ALL\r\n",
    "df = df1.copy()"
   ]
  },
  {
   "cell_type": "code",
   "execution_count": null,
   "metadata": {},
   "outputs": [],
   "source": []
  },
  {
   "cell_type": "code",
   "execution_count": null,
   "metadata": {},
   "outputs": [],
   "source": [
    "parejas = [\r\n",
    "    ('ks_s', 'nestab_s'),\r\n",
    "    ('ks_s', 'mkt_s'),\r\n",
    "    ('mkt_s', 'nestab_s'),\r\n",
    "    ('ks_d', 'nestab_d'),\r\n",
    "    ('ks_d', 'mkt_d'),\r\n",
    "    ('mkt_d', 'nestab_d'),\r\n",
    "    ('ks_s', 'ks_d'),\r\n",
    "    ('mkt_s', 'mkt_d'),\r\n",
    "    ('nestab_s', 'nestab_d'),\r\n",
    "    ('ks_s', 'lq'),\r\n",
    "    ('ks_d', 'lq'),\r\n",
    "    ('mkt_s', 'lq'),\r\n",
    "    ('mkt_d', 'lq'),\r\n",
    "    ('nestab_s', 'lq'),\r\n",
    "    ('nestab_d', 'lq')\r\n",
    "]\r\n"
   ]
  },
  {
   "cell_type": "code",
   "execution_count": null,
   "metadata": {},
   "outputs": [],
   "source": [
    "#FULL SAMPLE\r\n",
    "p8530 = []\r\n",
    "\r\n",
    "for pareja in parejas:\r\n",
    "    df_all = df.copy()\r\n",
    "    sample1 = df_all[pareja[0]]\r\n",
    "    sample2 = df_all[pareja[1]]\r\n",
    "    test = stats.ks_2samp(sample1, sample2)[1]\r\n",
    "    p8530.append(test)\r\n",
    "\r\n",
    "\r\n",
    "p85 = []\r\n",
    "\r\n",
    "for pareja in parejas:\r\n",
    "    df_all = df[df[\"time\"]==1]\r\n",
    "    sample1 = df_all[pareja[0]]\r\n",
    "    sample2 = df_all[pareja[1]]\r\n",
    "    test = stats.ks_2samp(sample1, sample2)[1]\r\n",
    "    p85.append(test)\r\n",
    "\r\n",
    "\r\n",
    "p09 = []\r\n",
    "\r\n",
    "for pareja in parejas:\r\n",
    "    df_all = df[df[\"time\"]==0]\r\n",
    "    sample1 = df_all[pareja[0]]\r\n",
    "    sample2 = df_all[pareja[1]]\r\n",
    "    test = stats.ks_2samp(sample1, sample2)[1]\r\n",
    "    p09.append(test)\r\n",
    "\r\n",
    "\r\n",
    "table = {\"p8530\": p8530, \"p85\": p85 , \"p09\": p09}\r\n",
    "pd.DataFrame(table, index =parejas, columns =[\"p8530\", \"p85\",\"p09\"]).round(4).to_excel(\"KS-ALL.xlsx\")\r\n"
   ]
  },
  {
   "cell_type": "code",
   "execution_count": null,
   "metadata": {},
   "outputs": [],
   "source": [
    "#ACTIVITY\r\n",
    "\r\n",
    "p8530 = []\r\n",
    "\r\n",
    "for pareja in parejas:\r\n",
    "    df_all = df_ac.copy()\r\n",
    "    sample1 = df_all[pareja[0]]\r\n",
    "    sample2 = df_all[pareja[1]]\r\n",
    "    test = stats.ks_2samp(sample1, sample2)[1]\r\n",
    "    p8530.append(test)\r\n",
    "\r\n",
    "\r\n",
    "p85 = []\r\n",
    "\r\n",
    "for pareja in parejas:\r\n",
    "    df_all = df_ac[df_ac[\"time\"]==1]\r\n",
    "    sample1 = df_all[pareja[0]]\r\n",
    "    sample2 = df_all[pareja[1]]\r\n",
    "    test = stats.ks_2samp(sample1, sample2)[1]\r\n",
    "    p85.append(test)\r\n",
    "\r\n",
    "\r\n",
    "p09 = []\r\n",
    "\r\n",
    "for pareja in parejas:\r\n",
    "    df_all = df_ac[df_ac[\"time\"]==0]\r\n",
    "    sample1 = df_all[pareja[0]]\r\n",
    "    sample2 = df_all[pareja[1]]\r\n",
    "    test = stats.ks_2samp(sample1, sample2)[1]\r\n",
    "    p09.append(test)\r\n",
    "\r\n",
    "\r\n",
    "table = {\"p8530\": p8530, \"p85\": p85 , \"p09\": p09}\r\n",
    "pd.DataFrame(table, index =parejas, columns =[\"p8530\", \"p85\",\"p09\"]).round(4).to_excel(\"KS-activity.xlsx\")"
   ]
  },
  {
   "cell_type": "code",
   "execution_count": null,
   "metadata": {},
   "outputs": [],
   "source": [
    "#OBSERVED\r\n",
    "\r\n",
    "p8530 = []\r\n",
    "\r\n",
    "for pareja in parejas:\r\n",
    "    df_all = df_a.copy()\r\n",
    "    sample1 = df_all[pareja[0]]\r\n",
    "    sample2 = df_all[pareja[1]]\r\n",
    "    test = stats.ks_2samp(sample1, sample2)[1]\r\n",
    "    p8530.append(test)\r\n",
    "\r\n",
    "\r\n",
    "p85 = []\r\n",
    "\r\n",
    "for pareja in parejas:\r\n",
    "    df_all = df_a[df_a[\"time\"]==1]\r\n",
    "    sample1 = df_all[pareja[0]]\r\n",
    "    sample2 = df_all[pareja[1]]\r\n",
    "    test = stats.ks_2samp(sample1, sample2)[1]\r\n",
    "    p85.append(test)\r\n",
    "\r\n",
    "\r\n",
    "p09 = []\r\n",
    "\r\n",
    "for pareja in parejas:\r\n",
    "    df_all = df_a[df_a[\"time\"]==0]\r\n",
    "    sample1 = df_all[pareja[0]]\r\n",
    "    sample2 = df_all[pareja[1]]\r\n",
    "    test = stats.ks_2samp(sample1, sample2)[1]\r\n",
    "    p09.append(test)\r\n",
    "\r\n",
    "\r\n",
    "table = {\"p8530\": p8530, \"p85\": p85 , \"p09\": p09}\r\n",
    "pd.DataFrame(table, index =parejas, columns =[\"p8530\", \"p85\",\"p09\"]).round(4).to_excel(\"KS-observed.xlsx\")"
   ]
  },
  {
   "cell_type": "code",
   "execution_count": null,
   "metadata": {},
   "outputs": [],
   "source": []
  },
  {
   "cell_type": "code",
   "execution_count": null,
   "metadata": {},
   "outputs": [],
   "source": []
  },
  {
   "cell_type": "code",
   "execution_count": null,
   "metadata": {},
   "outputs": [],
   "source": []
  }
 ],
 "metadata": {
  "kernelspec": {
   "display_name": "Python 3.8.5 64-bit ('base': conda)",
   "name": "python385jvsc74a57bd006cb5fed7a19db1a3b234843391dc1a69eede94e92f070202b04797e91c1cb37"
  },
  "language_info": {
   "codemirror_mode": {
    "name": "ipython",
    "version": 3
   },
   "file_extension": ".py",
   "mimetype": "text/x-python",
   "name": "python",
   "nbconvert_exporter": "python",
   "pygments_lexer": "ipython3",
   "version": "3.8.5"
  },
  "orig_nbformat": 2
 },
 "nbformat": 4,
 "nbformat_minor": 2
}