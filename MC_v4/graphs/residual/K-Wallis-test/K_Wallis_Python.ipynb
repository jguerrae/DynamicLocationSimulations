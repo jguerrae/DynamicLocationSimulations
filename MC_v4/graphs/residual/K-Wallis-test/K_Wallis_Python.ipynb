{
 "metadata": {
  "language_info": {
   "codemirror_mode": {
    "name": "ipython",
    "version": 3
   },
   "file_extension": ".py",
   "mimetype": "text/x-python",
   "name": "python",
   "nbconvert_exporter": "python",
   "pygments_lexer": "ipython3",
   "version": "3.8.5"
  },
  "orig_nbformat": 2,
  "kernelspec": {
   "name": "python385jvsc74a57bd006cb5fed7a19db1a3b234843391dc1a69eede94e92f070202b04797e91c1cb37",
   "display_name": "Python 3.8.5 64-bit (conda)"
  }
 },
 "nbformat": 4,
 "nbformat_minor": 2,
 "cells": [
  {
   "cell_type": "code",
   "execution_count": 9,
   "metadata": {},
   "outputs": [],
   "source": [
    "import pandas as pd\n",
    "import re\n",
    "df = pd.read_excel(\"KW_1.xlsx\")"
   ]
  },
  {
   "cell_type": "code",
   "execution_count": 10,
   "metadata": {},
   "outputs": [],
   "source": [
    "p_all = re.findall(r\"[0-9]\\.[0-9][0-9][0-9][0-9]\", df[\"all\"][0])\n",
    "ALL = []\n",
    "for i in range(1, len(p_all), 2):\n",
    "    ALL.append(p_all[i])\n",
    "\n",
    "aa  = ALL[0:10]\n",
    "a85 = ALL[10:20]\n",
    "a09 = ALL[20:31]"
   ]
  },
  {
   "cell_type": "code",
   "execution_count": 11,
   "metadata": {},
   "outputs": [],
   "source": [
    "p_observed = re.findall(r\"[0-9]\\.[0-9][0-9][0-9][0-9]\", df[\"all\"][1])\n",
    "ALL_o = []\n",
    "for i in range(1, len(p_observed), 2):\n",
    "    ALL_o.append(p_observed[i])\n",
    "oa  = ALL_o[0:10]\n",
    "o85 = ALL_o[10:20]\n",
    "o09 = ALL_o[20:31]"
   ]
  },
  {
   "cell_type": "code",
   "execution_count": 12,
   "metadata": {},
   "outputs": [],
   "source": [
    "p_activity = re.findall(r\"[0-9]\\.[0-9][0-9][0-9][0-9]\", df[\"all\"][2])\n",
    "ALL_a = []\n",
    "for i in range(1, len(p_activity), 2):\n",
    "    ALL_a.append(p_activity[i])\n",
    "aca  = ALL_a[0:10]\n",
    "ac85 = ALL_a[10:20]\n",
    "ac09 = ALL_a[20:31]"
   ]
  },
  {
   "cell_type": "code",
   "execution_count": 13,
   "metadata": {},
   "outputs": [],
   "source": [
    "index = [\"ks & nestab\", \"ks & mkt\", \"ks & fmkt\", \"ks & lq\", \"mkt & nestab\", \"mkt & fmkt\", \"mkt & lq\", \"nestab & fmkt\", \"nestab & lq\", \"fmkt & lq\"]\n",
    "columns = [\"All\", \"All_85\", \"All_09\", \"Observed_A\", \"Observed_85\", \"Observed_09\", \"Activity_A\", \"Activity_85\", \"Activity_09\"]\n",
    "pvalues = [aa,a85,a09,oa,o85,o09, aca,ac85,ac09]"
   ]
  },
  {
   "cell_type": "code",
   "execution_count": 14,
   "metadata": {},
   "outputs": [],
   "source": [
    "tabla = {}\n",
    "\n",
    "for i,e in zip(columns, pvalues):\n",
    "    tabla[i] = e\n",
    "\n",
    "tabla_pVF = pd.DataFrame(tabla, index=index)"
   ]
  },
  {
   "cell_type": "code",
   "execution_count": 15,
   "metadata": {},
   "outputs": [
    {
     "output_type": "stream",
     "name": "stderr",
     "text": [
      "<ipython-input-15-7be2c8677756>:9: SettingWithCopyWarning: \nA value is trying to be set on a copy of a slice from a DataFrame\n\nSee the caveats in the documentation: https://pandas.pydata.org/pandas-docs/stable/user_guide/indexing.html#returning-a-view-versus-a-copy\n  tabla_VF[i][e] = 0\n<ipython-input-15-7be2c8677756>:7: SettingWithCopyWarning: \nA value is trying to be set on a copy of a slice from a DataFrame\n\nSee the caveats in the documentation: https://pandas.pydata.org/pandas-docs/stable/user_guide/indexing.html#returning-a-view-versus-a-copy\n  tabla_VF[i][e] = 1\n"
     ]
    }
   ],
   "source": [
    "tabla_VF = tabla_pVF.copy() \n",
    "\n",
    "for i in tabla_VF.columns:\n",
    "    tabla_VF[i] = pd.to_numeric(tabla_VF[i])\n",
    "    for e in range(0,10):\n",
    "        if tabla_VF[i][e] < 0.05:\n",
    "            tabla_VF[i][e] = 1\n",
    "        else:\n",
    "            tabla_VF[i][e] = 0\n",
    "\n"
   ]
  },
  {
   "cell_type": "code",
   "execution_count": 16,
   "metadata": {},
   "outputs": [],
   "source": [
    "tabla_pVF.to_excel(\"tabla-pvalues-KH.xlsx\")\n",
    "tabla_VF.to_excel(\"tabla-pvalues-binaria-KH.xlsx\")"
   ]
  },
  {
   "cell_type": "code",
   "execution_count": null,
   "metadata": {},
   "outputs": [],
   "source": []
  }
 ]
}