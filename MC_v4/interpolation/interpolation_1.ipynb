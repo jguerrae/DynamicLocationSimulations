{
 "metadata": {
  "language_info": {
   "codemirror_mode": {
    "name": "ipython",
    "version": 3
   },
   "file_extension": ".py",
   "mimetype": "text/x-python",
   "name": "python",
   "nbconvert_exporter": "python",
   "pygments_lexer": "ipython3",
   "version": "3.8.5"
  },
  "orig_nbformat": 2,
  "kernelspec": {
   "name": "python385jvsc74a57bd006cb5fed7a19db1a3b234843391dc1a69eede94e92f070202b04797e91c1cb37",
   "display_name": "Python 3.8.5 64-bit (conda)"
  }
 },
 "nbformat": 4,
 "nbformat_minor": 2,
 "cells": [
  {
   "cell_type": "code",
   "execution_count": 3,
   "metadata": {},
   "outputs": [],
   "source": [
    "# CÓDIGO PARA EL PRE-PROCESAMIENTO DE NESTAB"
   ]
  },
  {
   "cell_type": "code",
   "execution_count": 4,
   "metadata": {},
   "outputs": [],
   "source": [
    "import pandas as pd"
   ]
  },
  {
   "cell_type": "code",
   "execution_count": 5,
   "metadata": {},
   "outputs": [],
   "source": [
    "df = pd.read_stata(\"county_income_market_access_1890-1930_updated_april2021.dta\")"
   ]
  },
  {
   "cell_type": "code",
   "execution_count": 6,
   "metadata": {},
   "outputs": [
    {
     "output_type": "stream",
     "name": "stderr",
     "text": [
      "<ipython-input-6-7527d03e94bf>:4: SettingWithCopyWarning: \nA value is trying to be set on a copy of a slice from a DataFrame.\nTry using .loc[row_indexer,col_indexer] = value instead\n\nSee the caveats in the documentation: https://pandas.pydata.org/pandas-docs/stable/user_guide/indexing.html#returning-a-view-versus-a-copy\n  A[\"year\"] = 1890\nC:\\Users\\War\\anaconda3\\lib\\site-packages\\pandas\\core\\frame.py:4296: SettingWithCopyWarning: \nA value is trying to be set on a copy of a slice from a DataFrame\n\nSee the caveats in the documentation: https://pandas.pydata.org/pandas-docs/stable/user_guide/indexing.html#returning-a-view-versus-a-copy\n  return super().rename(\n<ipython-input-6-7527d03e94bf>:9: SettingWithCopyWarning: \nA value is trying to be set on a copy of a slice from a DataFrame.\nTry using .loc[row_indexer,col_indexer] = value instead\n\nSee the caveats in the documentation: https://pandas.pydata.org/pandas-docs/stable/user_guide/indexing.html#returning-a-view-versus-a-copy\n  B[\"year\"] = i\n"
     ]
    }
   ],
   "source": [
    "#CONVERTIR LA BASE DE MKT CORTE TRANSVERSAL A PANEL\n",
    "\n",
    "A = df[ [\"cfips\", \"bi_mktaccess1890\"]]\n",
    "A[\"year\"] = 1890\n",
    "A.rename(columns = {\"bi_mktaccess1890\": \"mkt\"}, inplace =  True)\n",
    "\n",
    "for i in range(1900, 1940, 10):\n",
    "    B = df[ [\"cfips\", f\"bi_mktaccess{i}\"]]\n",
    "    B[\"year\"] = i\n",
    "    B.rename(columns = {f\"bi_mktaccess{i}\": \"mkt\"}, inplace = True)\n",
    "    A = A.append(B, ignore_index=True)\n",
    "\n",
    "A.to_stata(\"mkt.dta\")"
   ]
  },
  {
   "cell_type": "code",
   "execution_count": 7,
   "metadata": {},
   "outputs": [
    {
     "output_type": "stream",
     "name": "stderr",
     "text": [
      "<ipython-input-7-00a65698e907>:4: SettingWithCopyWarning: \nA value is trying to be set on a copy of a slice from a DataFrame.\nTry using .loc[row_indexer,col_indexer] = value instead\n\nSee the caveats in the documentation: https://pandas.pydata.org/pandas-docs/stable/user_guide/indexing.html#returning-a-view-versus-a-copy\n  A[\"year\"] = 1890\nC:\\Users\\War\\anaconda3\\lib\\site-packages\\pandas\\core\\frame.py:4296: SettingWithCopyWarning: \nA value is trying to be set on a copy of a slice from a DataFrame\n\nSee the caveats in the documentation: https://pandas.pydata.org/pandas-docs/stable/user_guide/indexing.html#returning-a-view-versus-a-copy\n  return super().rename(\n<ipython-input-7-00a65698e907>:9: SettingWithCopyWarning: \nA value is trying to be set on a copy of a slice from a DataFrame.\nTry using .loc[row_indexer,col_indexer] = value instead\n\nSee the caveats in the documentation: https://pandas.pydata.org/pandas-docs/stable/user_guide/indexing.html#returning-a-view-versus-a-copy\n  B[\"year\"] = i\n"
     ]
    }
   ],
   "source": [
    "#CONVERTIR LA BASE DE FMKT CORTE TRANSVERSAL A PANEL\n",
    "\n",
    "A = df[ [\"cfips\", \"bi_fmktaccess1890\"]]\n",
    "A[\"year\"] = 1890\n",
    "A.rename(columns = {\"bi_fmktaccess1890\": \"fmkt\"}, inplace =  True)\n",
    "\n",
    "for i in range(1900, 1940, 10):\n",
    "    B = df[ [\"cfips\", f\"bi_fmktaccess{i}\"]]\n",
    "    B[\"year\"] = i\n",
    "    B.rename(columns = {f\"bi_fmktaccess{i}\": \"fmkt\"}, inplace = True)\n",
    "    A = A.append(B, ignore_index=True)\n",
    "\n",
    "A.to_stata(\"fmkt.dta\")"
   ]
  },
  {
   "cell_type": "code",
   "execution_count": null,
   "metadata": {},
   "outputs": [],
   "source": []
  },
  {
   "cell_type": "code",
   "execution_count": null,
   "metadata": {},
   "outputs": [],
   "source": []
  }
 ]
}