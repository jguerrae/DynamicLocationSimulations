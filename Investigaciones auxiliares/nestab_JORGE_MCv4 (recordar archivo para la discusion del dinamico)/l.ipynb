{
 "metadata": {
  "language_info": {
   "codemirror_mode": {
    "name": "ipython",
    "version": 3
   },
   "file_extension": ".py",
   "mimetype": "text/x-python",
   "name": "python",
   "nbconvert_exporter": "python",
   "pygments_lexer": "ipython3",
   "version": "3.8.5"
  },
  "orig_nbformat": 2,
  "kernelspec": {
   "name": "python385jvsc74a57bd006cb5fed7a19db1a3b234843391dc1a69eede94e92f070202b04797e91c1cb37",
   "display_name": "Python 3.8.5 64-bit (conda)"
  }
 },
 "nbformat": 4,
 "nbformat_minor": 2,
 "cells": [
  {
   "cell_type": "code",
   "execution_count": 8,
   "metadata": {},
   "outputs": [],
   "source": [
    "n = ['100,063',\n",
    " '100,021',\n",
    " '100,046',\n",
    " '100,022',\n",
    " '100,021',\n",
    " '100,029',\n",
    " '100,033',\n",
    " '100,036',\n",
    " '100,025',\n",
    " '100,021',\n",
    " '100,039',\n",
    " '100,034',\n",
    " '100,049',\n",
    " '100,052',\n",
    " '100,036',\n",
    " '100,046',\n",
    " '100,032',\n",
    " '100,051',\n",
    " '100,067',\n",
    " '100,043',\n",
    " '100,064',\n",
    " '100,082',\n",
    " '100,084',\n",
    " '100,068',\n",
    " '100,098',\n",
    " '100,088',\n",
    " '100,106',\n",
    " '100,093',\n",
    " '100,125',\n",
    " '100,132',\n",
    " '100,155',\n",
    " '100,161',\n",
    " '100,198',\n",
    " '100,209',\n",
    " '100,231',\n",
    " '100,248']\n",
    "\n"
   ]
  },
  {
   "cell_type": "code",
   "execution_count": 18,
   "metadata": {},
   "outputs": [],
   "source": [
    " y = ['1895',\n",
    " '1896',\n",
    " '1897',\n",
    " '1898',\n",
    " '1899',\n",
    " '1900',\n",
    " '1901',\n",
    " '1902',\n",
    " '1903',\n",
    " '1904',\n",
    " '1905',\n",
    " '1906',\n",
    " '1907',\n",
    " '1908',\n",
    " '1909',\n",
    " '1910',\n",
    " '1911',\n",
    " '1912',\n",
    " '1913',\n",
    " '1914',\n",
    " '1915',\n",
    " '1916',\n",
    " '1917',\n",
    " '1918',\n",
    " '1919',\n",
    " '1920',\n",
    " '1921',\n",
    " '1922',\n",
    " '1923',\n",
    " '1924',\n",
    " '1925',\n",
    " '1926',\n",
    " '1927',\n",
    " '1928',\n",
    " '1929',\n",
    " '1930']"
   ]
  },
  {
   "cell_type": "code",
   "execution_count": 22,
   "metadata": {},
   "outputs": [],
   "source": [
    "k = ['4',\n",
    " '3',\n",
    " '3',\n",
    " '6',\n",
    " '23',\n",
    " '39',\n",
    " '29',\n",
    " '47',\n",
    " '59',\n",
    " '37',\n",
    " '47',\n",
    " '49',\n",
    " '91',\n",
    " '75',\n",
    " '69',\n",
    " '55',\n",
    " '26',\n",
    " '25',\n",
    " '38',\n",
    " '20',\n",
    " '38',\n",
    " '39',\n",
    " '24',\n",
    " '17',\n",
    " '20',\n",
    " '24',\n",
    " '27',\n",
    " '10',\n",
    " '7',\n",
    " '8',\n",
    " '5',\n",
    " '2',\n",
    " '1',\n",
    " '2',\n",
    " '1']"
   ]
  },
  {
   "cell_type": "code",
   "execution_count": 26,
   "metadata": {},
   "outputs": [
    {
     "output_type": "stream",
     "name": "stdout",
     "text": [
      "preserve \ngen cfipsfirmsid = floor(( 100063 +1)*runiform() + 1)\nmerge m:m cfipsfirmsid using \"MC\\MCY_1895.dta\" \nkeep if year == 1895 \ngen n = _n\nkeep if n<=4000  \nsave \"MC\\2_MC_1895\", replace \nrestore \n\npreserve \ngen cfipsfirmsid = floor(( 100021 +1)*runiform() + 1)\nmerge m:m cfipsfirmsid using \"MC\\MCY_1896.dta\" \nkeep if year == 1896 \ngen n = _n\nkeep if n<=3000  \nsave \"MC\\2_MC_1896\", replace \nrestore \n\npreserve \ngen cfipsfirmsid = floor(( 100046 +1)*runiform() + 1)\nmerge m:m cfipsfirmsid using \"MC\\MCY_1897.dta\" \nkeep if year == 1897 \ngen n = _n\nkeep if n<=3000  \nsave \"MC\\2_MC_1897\", replace \nrestore \n\npreserve \ngen cfipsfirmsid = floor(( 100022 +1)*runiform() + 1)\nmerge m:m cfipsfirmsid using \"MC\\MCY_1898.dta\" \nkeep if year == 1898 \ngen n = _n\nkeep if n<=6000  \nsave \"MC\\2_MC_1898\", replace \nrestore \n\npreserve \ngen cfipsfirmsid = floor(( 100021 +1)*runiform() + 1)\nmerge m:m cfipsfirmsid using \"MC\\MCY_1899.dta\" \nkeep if year == 1899 \ngen n = _n\nkeep if n<=23000  \nsave \"MC\\2_MC_1899\", replace \nrestore \n\npreserve \ngen cfipsfirmsid = floor(( 100029 +1)*runiform() + 1)\nmerge m:m cfipsfirmsid using \"MC\\MCY_1900.dta\" \nkeep if year == 1900 \ngen n = _n\nkeep if n<=39000  \nsave \"MC\\2_MC_1900\", replace \nrestore \n\npreserve \ngen cfipsfirmsid = floor(( 100033 +1)*runiform() + 1)\nmerge m:m cfipsfirmsid using \"MC\\MCY_1901.dta\" \nkeep if year == 1901 \ngen n = _n\nkeep if n<=29000  \nsave \"MC\\2_MC_1901\", replace \nrestore \n\npreserve \ngen cfipsfirmsid = floor(( 100036 +1)*runiform() + 1)\nmerge m:m cfipsfirmsid using \"MC\\MCY_1902.dta\" \nkeep if year == 1902 \ngen n = _n\nkeep if n<=47000  \nsave \"MC\\2_MC_1902\", replace \nrestore \n\npreserve \ngen cfipsfirmsid = floor(( 100025 +1)*runiform() + 1)\nmerge m:m cfipsfirmsid using \"MC\\MCY_1903.dta\" \nkeep if year == 1903 \ngen n = _n\nkeep if n<=59000  \nsave \"MC\\2_MC_1903\", replace \nrestore \n\npreserve \ngen cfipsfirmsid = floor(( 100021 +1)*runiform() + 1)\nmerge m:m cfipsfirmsid using \"MC\\MCY_1904.dta\" \nkeep if year == 1904 \ngen n = _n\nkeep if n<=37000  \nsave \"MC\\2_MC_1904\", replace \nrestore \n\npreserve \ngen cfipsfirmsid = floor(( 100039 +1)*runiform() + 1)\nmerge m:m cfipsfirmsid using \"MC\\MCY_1905.dta\" \nkeep if year == 1905 \ngen n = _n\nkeep if n<=47000  \nsave \"MC\\2_MC_1905\", replace \nrestore \n\npreserve \ngen cfipsfirmsid = floor(( 100034 +1)*runiform() + 1)\nmerge m:m cfipsfirmsid using \"MC\\MCY_1906.dta\" \nkeep if year == 1906 \ngen n = _n\nkeep if n<=49000  \nsave \"MC\\2_MC_1906\", replace \nrestore \n\npreserve \ngen cfipsfirmsid = floor(( 100049 +1)*runiform() + 1)\nmerge m:m cfipsfirmsid using \"MC\\MCY_1907.dta\" \nkeep if year == 1907 \ngen n = _n\nkeep if n<=91000  \nsave \"MC\\2_MC_1907\", replace \nrestore \n\npreserve \ngen cfipsfirmsid = floor(( 100052 +1)*runiform() + 1)\nmerge m:m cfipsfirmsid using \"MC\\MCY_1908.dta\" \nkeep if year == 1908 \ngen n = _n\nkeep if n<=75000  \nsave \"MC\\2_MC_1908\", replace \nrestore \n\npreserve \ngen cfipsfirmsid = floor(( 100036 +1)*runiform() + 1)\nmerge m:m cfipsfirmsid using \"MC\\MCY_1909.dta\" \nkeep if year == 1909 \ngen n = _n\nkeep if n<=69000  \nsave \"MC\\2_MC_1909\", replace \nrestore \n\npreserve \ngen cfipsfirmsid = floor(( 100046 +1)*runiform() + 1)\nmerge m:m cfipsfirmsid using \"MC\\MCY_1910.dta\" \nkeep if year == 1910 \ngen n = _n\nkeep if n<=55000  \nsave \"MC\\2_MC_1910\", replace \nrestore \n\npreserve \ngen cfipsfirmsid = floor(( 100032 +1)*runiform() + 1)\nmerge m:m cfipsfirmsid using \"MC\\MCY_1911.dta\" \nkeep if year == 1911 \ngen n = _n\nkeep if n<=26000  \nsave \"MC\\2_MC_1911\", replace \nrestore \n\npreserve \ngen cfipsfirmsid = floor(( 100051 +1)*runiform() + 1)\nmerge m:m cfipsfirmsid using \"MC\\MCY_1912.dta\" \nkeep if year == 1912 \ngen n = _n\nkeep if n<=25000  \nsave \"MC\\2_MC_1912\", replace \nrestore \n\npreserve \ngen cfipsfirmsid = floor(( 100067 +1)*runiform() + 1)\nmerge m:m cfipsfirmsid using \"MC\\MCY_1913.dta\" \nkeep if year == 1913 \ngen n = _n\nkeep if n<=38000  \nsave \"MC\\2_MC_1913\", replace \nrestore \n\npreserve \ngen cfipsfirmsid = floor(( 100043 +1)*runiform() + 1)\nmerge m:m cfipsfirmsid using \"MC\\MCY_1914.dta\" \nkeep if year == 1914 \ngen n = _n\nkeep if n<=20000  \nsave \"MC\\2_MC_1914\", replace \nrestore \n\npreserve \ngen cfipsfirmsid = floor(( 100064 +1)*runiform() + 1)\nmerge m:m cfipsfirmsid using \"MC\\MCY_1915.dta\" \nkeep if year == 1915 \ngen n = _n\nkeep if n<=38000  \nsave \"MC\\2_MC_1915\", replace \nrestore \n\npreserve \ngen cfipsfirmsid = floor(( 100082 +1)*runiform() + 1)\nmerge m:m cfipsfirmsid using \"MC\\MCY_1916.dta\" \nkeep if year == 1916 \ngen n = _n\nkeep if n<=39000  \nsave \"MC\\2_MC_1916\", replace \nrestore \n\npreserve \ngen cfipsfirmsid = floor(( 100084 +1)*runiform() + 1)\nmerge m:m cfipsfirmsid using \"MC\\MCY_1917.dta\" \nkeep if year == 1917 \ngen n = _n\nkeep if n<=24000  \nsave \"MC\\2_MC_1917\", replace \nrestore \n\npreserve \ngen cfipsfirmsid = floor(( 100068 +1)*runiform() + 1)\nmerge m:m cfipsfirmsid using \"MC\\MCY_1918.dta\" \nkeep if year == 1918 \ngen n = _n\nkeep if n<=17000  \nsave \"MC\\2_MC_1918\", replace \nrestore \n\npreserve \ngen cfipsfirmsid = floor(( 100098 +1)*runiform() + 1)\nmerge m:m cfipsfirmsid using \"MC\\MCY_1919.dta\" \nkeep if year == 1919 \ngen n = _n\nkeep if n<=20000  \nsave \"MC\\2_MC_1919\", replace \nrestore \n\npreserve \ngen cfipsfirmsid = floor(( 100088 +1)*runiform() + 1)\nmerge m:m cfipsfirmsid using \"MC\\MCY_1920.dta\" \nkeep if year == 1920 \ngen n = _n\nkeep if n<=24000  \nsave \"MC\\2_MC_1920\", replace \nrestore \n\npreserve \ngen cfipsfirmsid = floor(( 100106 +1)*runiform() + 1)\nmerge m:m cfipsfirmsid using \"MC\\MCY_1921.dta\" \nkeep if year == 1921 \ngen n = _n\nkeep if n<=27000  \nsave \"MC\\2_MC_1921\", replace \nrestore \n\npreserve \ngen cfipsfirmsid = floor(( 100093 +1)*runiform() + 1)\nmerge m:m cfipsfirmsid using \"MC\\MCY_1922.dta\" \nkeep if year == 1922 \ngen n = _n\nkeep if n<=10000  \nsave \"MC\\2_MC_1922\", replace \nrestore \n\npreserve \ngen cfipsfirmsid = floor(( 100125 +1)*runiform() + 1)\nmerge m:m cfipsfirmsid using \"MC\\MCY_1923.dta\" \nkeep if year == 1923 \ngen n = _n\nkeep if n<=7000  \nsave \"MC\\2_MC_1923\", replace \nrestore \n\npreserve \ngen cfipsfirmsid = floor(( 100132 +1)*runiform() + 1)\nmerge m:m cfipsfirmsid using \"MC\\MCY_1924.dta\" \nkeep if year == 1924 \ngen n = _n\nkeep if n<=8000  \nsave \"MC\\2_MC_1924\", replace \nrestore \n\npreserve \ngen cfipsfirmsid = floor(( 100155 +1)*runiform() + 1)\nmerge m:m cfipsfirmsid using \"MC\\MCY_1925.dta\" \nkeep if year == 1925 \ngen n = _n\nkeep if n<=5000  \nsave \"MC\\2_MC_1925\", replace \nrestore \n\npreserve \ngen cfipsfirmsid = floor(( 100161 +1)*runiform() + 1)\nmerge m:m cfipsfirmsid using \"MC\\MCY_1926.dta\" \nkeep if year == 1926 \ngen n = _n\nkeep if n<=2000  \nsave \"MC\\2_MC_1926\", replace \nrestore \n\npreserve \ngen cfipsfirmsid = floor(( 100198 +1)*runiform() + 1)\nmerge m:m cfipsfirmsid using \"MC\\MCY_1927.dta\" \nkeep if year == 1927 \ngen n = _n\nkeep if n<=1000  \nsave \"MC\\2_MC_1927\", replace \nrestore \n\npreserve \ngen cfipsfirmsid = floor(( 100209 +1)*runiform() + 1)\nmerge m:m cfipsfirmsid using \"MC\\MCY_1928.dta\" \nkeep if year == 1928 \ngen n = _n\nkeep if n<=2000  \nsave \"MC\\2_MC_1928\", replace \nrestore \n\npreserve \ngen cfipsfirmsid = floor(( 100231 +1)*runiform() + 1)\nmerge m:m cfipsfirmsid using \"MC\\MCY_1929.dta\" \nkeep if year == 1929 \ngen n = _n\nkeep if n<=1000  \nsave \"MC\\2_MC_1929\", replace \nrestore \n\n"
     ]
    }
   ],
   "source": [
    "for i,e,l in zip(n,y,k):\n",
    "    A = f'preserve \\ngen cfipsfirmsid = floor(( {i.replace(\",\", \"\")} +1)*runiform() + 1)\\nmerge m:m cfipsfirmsid using \"MC\\MCY_{e}.dta\" \\nkeep if year == {e} \\ngen n = _n\\nkeep if n<={int(l)*1000}  \\nsave \"MC\\\\2_MC_{e}\", replace \\nrestore \\n'\n",
    "    print(A)\n",
    "    "
   ]
  },
  {
   "cell_type": "code",
   "execution_count": 9,
   "metadata": {},
   "outputs": [
    {
     "output_type": "execute_result",
     "data": {
      "text/plain": [
       "'gen cfipsfirmsid = floor(( 100012 +1)*runiform() + 1)\\nmerge m:m cfipsfirmsid using \"MC_inputdata_cfips_nestab90.dta\" \\nkeep if year == 1895\\nsave \"MC\\\\MC_1985\", replace'"
      ]
     },
     "metadata": {},
     "execution_count": 9
    }
   ],
   "source": [
    "\"\"\"gen cfipsfirmsid = floor(( 100012 +1)*runiform() + 1)\n",
    "merge m:m cfipsfirmsid using \"MC_inputdata_cfips_nestab90.dta\" \n",
    "keep if year == 1895\n",
    "save \"MC\\MC_1985\", replace\"\"\""
   ]
  },
  {
   "source": [
    "1985\t1896\t1897\t1898\t1899\t1900\t1901\t1902\t1903\t1904\t1905\t1906\t1907\t1908\t1909\t1910\t1911\t1912\t1913\t1914\t1915\t1916\t1917\t1918\t1919\t1920\t1921\t1922\t1923\t1924\t1925\t1926\t1927\t1928\t1929\t1930\n"
   ],
   "cell_type": "markdown",
   "metadata": {}
  }
 ]
}