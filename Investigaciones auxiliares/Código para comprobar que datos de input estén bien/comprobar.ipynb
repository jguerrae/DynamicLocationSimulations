{
 "metadata": {
  "language_info": {
   "codemirror_mode": {
    "name": "ipython",
    "version": 3
   },
   "file_extension": ".py",
   "mimetype": "text/x-python",
   "name": "python",
   "nbconvert_exporter": "python",
   "pygments_lexer": "ipython3",
   "version": "3.7.4-final"
  },
  "orig_nbformat": 2,
  "kernelspec": {
   "name": "python37464bitbasecondad733bc2e8a4842d09a20eae419841056",
   "display_name": "Python 3.7.4 64-bit ('base': conda)"
  }
 },
 "nbformat": 4,
 "nbformat_minor": 2,
 "cells": [
  {
   "cell_type": "code",
   "execution_count": 41,
   "metadata": {},
   "outputs": [],
   "source": [
    "import pandas as pd\n",
    "import numpy as np"
   ]
  },
  {
   "cell_type": "code",
   "execution_count": 34,
   "metadata": {},
   "outputs": [],
   "source": [
    "censo=pd.read_stata(\"censo.dta\")\n",
    "county=pd.read_stata(\"countys.dta\")"
   ]
  },
  {
   "cell_type": "code",
   "execution_count": 35,
   "metadata": {},
   "outputs": [
    {
     "output_type": "execute_result",
     "data": {
      "text/plain": [
       "        state      county  nestab90   cfips  firms90           _merge\n",
       "0     Alabama     Autauga        31  1001.0     31.0      matched (3)\n",
       "1     Alabama     Baldwin         7  1003.0      7.0      matched (3)\n",
       "2     Alabama     Barbour        67  1005.0     67.0      matched (3)\n",
       "3     Alabama        Bibb         8  1007.0      8.0      matched (3)\n",
       "4     Alabama      Blount        35  1009.0     35.0      matched (3)\n",
       "...       ...         ...       ...     ...      ...              ...\n",
       "2797  Wyoming     Natrona         3     NaN      NaN  master only (1)\n",
       "2798  Wyoming    Sheridan         7     NaN      NaN  master only (1)\n",
       "2799  Wyoming  Sweetwater         2     NaN      NaN  master only (1)\n",
       "2800  Wyoming       Uinta         9     NaN      NaN  master only (1)\n",
       "2801  Wyoming      Weston         1     NaN      NaN  master only (1)\n",
       "\n",
       "[2802 rows x 6 columns]"
      ],
      "text/html": "<div>\n<style scoped>\n    .dataframe tbody tr th:only-of-type {\n        vertical-align: middle;\n    }\n\n    .dataframe tbody tr th {\n        vertical-align: top;\n    }\n\n    .dataframe thead th {\n        text-align: right;\n    }\n</style>\n<table border=\"1\" class=\"dataframe\">\n  <thead>\n    <tr style=\"text-align: right;\">\n      <th></th>\n      <th>state</th>\n      <th>county</th>\n      <th>nestab90</th>\n      <th>cfips</th>\n      <th>firms90</th>\n      <th>_merge</th>\n    </tr>\n  </thead>\n  <tbody>\n    <tr>\n      <td>0</td>\n      <td>Alabama</td>\n      <td>Autauga</td>\n      <td>31</td>\n      <td>1001.0</td>\n      <td>31.0</td>\n      <td>matched (3)</td>\n    </tr>\n    <tr>\n      <td>1</td>\n      <td>Alabama</td>\n      <td>Baldwin</td>\n      <td>7</td>\n      <td>1003.0</td>\n      <td>7.0</td>\n      <td>matched (3)</td>\n    </tr>\n    <tr>\n      <td>2</td>\n      <td>Alabama</td>\n      <td>Barbour</td>\n      <td>67</td>\n      <td>1005.0</td>\n      <td>67.0</td>\n      <td>matched (3)</td>\n    </tr>\n    <tr>\n      <td>3</td>\n      <td>Alabama</td>\n      <td>Bibb</td>\n      <td>8</td>\n      <td>1007.0</td>\n      <td>8.0</td>\n      <td>matched (3)</td>\n    </tr>\n    <tr>\n      <td>4</td>\n      <td>Alabama</td>\n      <td>Blount</td>\n      <td>35</td>\n      <td>1009.0</td>\n      <td>35.0</td>\n      <td>matched (3)</td>\n    </tr>\n    <tr>\n      <td>...</td>\n      <td>...</td>\n      <td>...</td>\n      <td>...</td>\n      <td>...</td>\n      <td>...</td>\n      <td>...</td>\n    </tr>\n    <tr>\n      <td>2797</td>\n      <td>Wyoming</td>\n      <td>Natrona</td>\n      <td>3</td>\n      <td>NaN</td>\n      <td>NaN</td>\n      <td>master only (1)</td>\n    </tr>\n    <tr>\n      <td>2798</td>\n      <td>Wyoming</td>\n      <td>Sheridan</td>\n      <td>7</td>\n      <td>NaN</td>\n      <td>NaN</td>\n      <td>master only (1)</td>\n    </tr>\n    <tr>\n      <td>2799</td>\n      <td>Wyoming</td>\n      <td>Sweetwater</td>\n      <td>2</td>\n      <td>NaN</td>\n      <td>NaN</td>\n      <td>master only (1)</td>\n    </tr>\n    <tr>\n      <td>2800</td>\n      <td>Wyoming</td>\n      <td>Uinta</td>\n      <td>9</td>\n      <td>NaN</td>\n      <td>NaN</td>\n      <td>master only (1)</td>\n    </tr>\n    <tr>\n      <td>2801</td>\n      <td>Wyoming</td>\n      <td>Weston</td>\n      <td>1</td>\n      <td>NaN</td>\n      <td>NaN</td>\n      <td>master only (1)</td>\n    </tr>\n  </tbody>\n</table>\n<p>2802 rows × 6 columns</p>\n</div>"
     },
     "metadata": {},
     "execution_count": 35
    }
   ],
   "source": [
    "censo"
   ]
  },
  {
   "cell_type": "code",
   "execution_count": 36,
   "metadata": {},
   "outputs": [
    {
     "output_type": "execute_result",
     "data": {
      "text/plain": [
       "                      A  C\n",
       "0        AlabamaAutauga  1\n",
       "1        AlabamaBaldwin  1\n",
       "2        AlabamaBarbour  1\n",
       "3           AlabamaBibb  1\n",
       "4         AlabamaBlount  1\n",
       "...                 ... ..\n",
       "2797     WyomingNatrona  1\n",
       "2798    WyomingSheridan  1\n",
       "2799  WyomingSweetwater  1\n",
       "2800       WyomingUinta  1\n",
       "2801      WyomingWeston  1\n",
       "\n",
       "[2802 rows x 2 columns]"
      ],
      "text/html": "<div>\n<style scoped>\n    .dataframe tbody tr th:only-of-type {\n        vertical-align: middle;\n    }\n\n    .dataframe tbody tr th {\n        vertical-align: top;\n    }\n\n    .dataframe thead th {\n        text-align: right;\n    }\n</style>\n<table border=\"1\" class=\"dataframe\">\n  <thead>\n    <tr style=\"text-align: right;\">\n      <th></th>\n      <th>A</th>\n      <th>C</th>\n    </tr>\n  </thead>\n  <tbody>\n    <tr>\n      <td>0</td>\n      <td>AlabamaAutauga</td>\n      <td>1</td>\n    </tr>\n    <tr>\n      <td>1</td>\n      <td>AlabamaBaldwin</td>\n      <td>1</td>\n    </tr>\n    <tr>\n      <td>2</td>\n      <td>AlabamaBarbour</td>\n      <td>1</td>\n    </tr>\n    <tr>\n      <td>3</td>\n      <td>AlabamaBibb</td>\n      <td>1</td>\n    </tr>\n    <tr>\n      <td>4</td>\n      <td>AlabamaBlount</td>\n      <td>1</td>\n    </tr>\n    <tr>\n      <td>...</td>\n      <td>...</td>\n      <td>...</td>\n    </tr>\n    <tr>\n      <td>2797</td>\n      <td>WyomingNatrona</td>\n      <td>1</td>\n    </tr>\n    <tr>\n      <td>2798</td>\n      <td>WyomingSheridan</td>\n      <td>1</td>\n    </tr>\n    <tr>\n      <td>2799</td>\n      <td>WyomingSweetwater</td>\n      <td>1</td>\n    </tr>\n    <tr>\n      <td>2800</td>\n      <td>WyomingUinta</td>\n      <td>1</td>\n    </tr>\n    <tr>\n      <td>2801</td>\n      <td>WyomingWeston</td>\n      <td>1</td>\n    </tr>\n  </tbody>\n</table>\n<p>2802 rows × 2 columns</p>\n</div>"
     },
     "metadata": {},
     "execution_count": 36
    }
   ],
   "source": [
    "censo[\"A\"]=censo.state+censo.county\n",
    "censo[\"C\"]=1\n",
    "censo.iloc[:,6:8]"
   ]
  },
  {
   "cell_type": "code",
   "execution_count": 37,
   "metadata": {},
   "outputs": [
    {
     "output_type": "execute_result",
     "data": {
      "text/plain": [
       "          county  cfips    state                  A\n",
       "0        Autauga   1001  Alabama     AlabamaAutauga\n",
       "1        Baldwin   1003  Alabama     AlabamaBaldwin\n",
       "2        Barbour   1005  Alabama     AlabamaBarbour\n",
       "3           Bibb   1007  Alabama        AlabamaBibb\n",
       "4         Blount   1009  Alabama      AlabamaBlount\n",
       "...          ...    ...      ...                ...\n",
       "3228  Sweetwater  56037  Wyoming  WyomingSweetwater\n",
       "3229       Teton  56039  Wyoming       WyomingTeton\n",
       "3230       Uinta  56041  Wyoming       WyomingUinta\n",
       "3231    Washakie  56043  Wyoming    WyomingWashakie\n",
       "3232      Weston  56045  Wyoming      WyomingWeston\n",
       "\n",
       "[3233 rows x 4 columns]"
      ],
      "text/html": "<div>\n<style scoped>\n    .dataframe tbody tr th:only-of-type {\n        vertical-align: middle;\n    }\n\n    .dataframe tbody tr th {\n        vertical-align: top;\n    }\n\n    .dataframe thead th {\n        text-align: right;\n    }\n</style>\n<table border=\"1\" class=\"dataframe\">\n  <thead>\n    <tr style=\"text-align: right;\">\n      <th></th>\n      <th>county</th>\n      <th>cfips</th>\n      <th>state</th>\n      <th>A</th>\n    </tr>\n  </thead>\n  <tbody>\n    <tr>\n      <td>0</td>\n      <td>Autauga</td>\n      <td>1001</td>\n      <td>Alabama</td>\n      <td>AlabamaAutauga</td>\n    </tr>\n    <tr>\n      <td>1</td>\n      <td>Baldwin</td>\n      <td>1003</td>\n      <td>Alabama</td>\n      <td>AlabamaBaldwin</td>\n    </tr>\n    <tr>\n      <td>2</td>\n      <td>Barbour</td>\n      <td>1005</td>\n      <td>Alabama</td>\n      <td>AlabamaBarbour</td>\n    </tr>\n    <tr>\n      <td>3</td>\n      <td>Bibb</td>\n      <td>1007</td>\n      <td>Alabama</td>\n      <td>AlabamaBibb</td>\n    </tr>\n    <tr>\n      <td>4</td>\n      <td>Blount</td>\n      <td>1009</td>\n      <td>Alabama</td>\n      <td>AlabamaBlount</td>\n    </tr>\n    <tr>\n      <td>...</td>\n      <td>...</td>\n      <td>...</td>\n      <td>...</td>\n      <td>...</td>\n    </tr>\n    <tr>\n      <td>3228</td>\n      <td>Sweetwater</td>\n      <td>56037</td>\n      <td>Wyoming</td>\n      <td>WyomingSweetwater</td>\n    </tr>\n    <tr>\n      <td>3229</td>\n      <td>Teton</td>\n      <td>56039</td>\n      <td>Wyoming</td>\n      <td>WyomingTeton</td>\n    </tr>\n    <tr>\n      <td>3230</td>\n      <td>Uinta</td>\n      <td>56041</td>\n      <td>Wyoming</td>\n      <td>WyomingUinta</td>\n    </tr>\n    <tr>\n      <td>3231</td>\n      <td>Washakie</td>\n      <td>56043</td>\n      <td>Wyoming</td>\n      <td>WyomingWashakie</td>\n    </tr>\n    <tr>\n      <td>3232</td>\n      <td>Weston</td>\n      <td>56045</td>\n      <td>Wyoming</td>\n      <td>WyomingWeston</td>\n    </tr>\n  </tbody>\n</table>\n<p>3233 rows × 4 columns</p>\n</div>"
     },
     "metadata": {},
     "execution_count": 37
    }
   ],
   "source": [
    "county[\"A\"]=county.state+county.county\n",
    "county"
   ]
  },
  {
   "cell_type": "code",
   "execution_count": 38,
   "metadata": {},
   "outputs": [],
   "source": [
    "new=pd.merge(county, censo.iloc[:,6:8], how=\"left\", on=\"A\")"
   ]
  },
  {
   "cell_type": "code",
   "execution_count": 45,
   "metadata": {},
   "outputs": [],
   "source": [
    "new.C=new.C.replace(np.nan, 0)"
   ]
  },
  {
   "cell_type": "code",
   "execution_count": 47,
   "metadata": {},
   "outputs": [],
   "source": [
    "new.to_excel(\"old_new.xls\")"
   ]
  },
  {
   "cell_type": "code",
   "execution_count": null,
   "metadata": {},
   "outputs": [],
   "source": []
  }
 ]
}