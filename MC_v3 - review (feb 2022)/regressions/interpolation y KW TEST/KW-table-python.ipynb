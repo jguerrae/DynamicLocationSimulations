{
 "metadata": {
  "language_info": {
   "codemirror_mode": {
    "name": "ipython",
    "version": 3
   },
   "file_extension": ".py",
   "mimetype": "text/x-python",
   "name": "python",
   "nbconvert_exporter": "python",
   "pygments_lexer": "ipython3",
   "version": "3.8.5-final"
  },
  "orig_nbformat": 2,
  "kernelspec": {
   "name": "python385jvsc74a57bd006cb5fed7a19db1a3b234843391dc1a69eede94e92f070202b04797e91c1cb37",
   "display_name": "Python 3.8.5 64-bit (conda)"
  }
 },
 "nbformat": 4,
 "nbformat_minor": 2,
 "cells": [
  {
   "cell_type": "code",
   "execution_count": 191,
   "metadata": {},
   "outputs": [],
   "source": [
    "df = pd.read_excel(\"test.xlsx\")"
   ]
  },
  {
   "cell_type": "code",
   "execution_count": 192,
   "metadata": {},
   "outputs": [],
   "source": [
    "p_all = re.findall(r\"[0-9]\\.[0-9][0-9][0-9][0-9]\", df[\"all\"][0])\n",
    "ALL = []\n",
    "for i in range(1, 36, 2):\n",
    "    ALL.append(p_all[i])\n",
    "aa  = ALL[0:6]\n",
    "a85 = ALL[6:12]\n",
    "a09 = ALL[12:19]"
   ]
  },
  {
   "cell_type": "code",
   "execution_count": 193,
   "metadata": {},
   "outputs": [],
   "source": [
    "p_observed = re.findall(r\"[0-9]\\.[0-9][0-9][0-9][0-9]\", df[\"all\"][1])\n",
    "ALL_o = []\n",
    "for i in range(1, 36, 2):\n",
    "    ALL_o.append(p_observed[i])\n",
    "oa  = ALL_o[0:6]\n",
    "o85 = ALL_o[6:12]\n",
    "o09 = ALL_o[12:19]"
   ]
  },
  {
   "cell_type": "code",
   "execution_count": 194,
   "metadata": {},
   "outputs": [],
   "source": [
    "p_activity = re.findall(r\"[0-9]\\.[0-9][0-9][0-9][0-9]\", df[\"all\"][2])\n",
    "ALL_a = []\n",
    "for i in range(1, 36, 2):\n",
    "    ALL_a.append(p_activity[i])\n",
    "aca  = ALL_a[0:6]\n",
    "ac85 = ALL_a[6:12]\n",
    "ac09 = ALL_a[12:19]"
   ]
  },
  {
   "cell_type": "code",
   "execution_count": 195,
   "metadata": {},
   "outputs": [],
   "source": [
    "index = [\"nt & ks\", \"nt & mkt\", \"ks & mkt\", \"nt & lq\", \"ks & lq\", \"mkt & lq\"]\n",
    "columns = [\"All\", \"All_85\", \"All_09\", \"Observed_A\", \"Observed_85\", \"Observed_09\", \"Activity_A\", \"Activity_85\", \"Activity_09\"]\n",
    "pvalues = [aa,a85,a09,oa,o85,o09, aca,ac85,ac09]"
   ]
  },
  {
   "cell_type": "code",
   "execution_count": 196,
   "metadata": {},
   "outputs": [],
   "source": [
    "tabla = {}\n",
    "\n",
    "for i,e in zip(columns, pvalues):\n",
    "    tabla[i] = e\n",
    "\n",
    "tabla_pVF = pd.DataFrame(tabla, index=index)"
   ]
  },
  {
   "cell_type": "code",
   "execution_count": 197,
   "metadata": {},
   "outputs": [
    {
     "output_type": "stream",
     "name": "stderr",
     "text": [
      "<ipython-input-197-0f8f06a0dcd9>:9: SettingWithCopyWarning: \nA value is trying to be set on a copy of a slice from a DataFrame\n\nSee the caveats in the documentation: https://pandas.pydata.org/pandas-docs/stable/user_guide/indexing.html#returning-a-view-versus-a-copy\n  tabla_VF[i][e] = 0\n<ipython-input-197-0f8f06a0dcd9>:7: SettingWithCopyWarning: \nA value is trying to be set on a copy of a slice from a DataFrame\n\nSee the caveats in the documentation: https://pandas.pydata.org/pandas-docs/stable/user_guide/indexing.html#returning-a-view-versus-a-copy\n  tabla_VF[i][e] = 1\n"
     ]
    }
   ],
   "source": [
    "tabla_VF = tabla_pVF.copy() \n",
    "\n",
    "for i in tabla_VF.columns:\n",
    "    tabla_VF[i] = pd.to_numeric(tabla_VF[i])\n",
    "    for e in range(0,6):\n",
    "        if tabla_VF[i][e] < 0.05:\n",
    "            tabla_VF[i][e] = 1\n",
    "        else:\n",
    "            tabla_VF[i][e] = 0\n",
    "\n"
   ]
  },
  {
   "cell_type": "code",
   "execution_count": 198,
   "metadata": {},
   "outputs": [],
   "source": [
    "tabla_pVF.to_excel(\"tabla-pvalues-KH.xlsx\")\n",
    "tabla_VF.to_excel(\"tabla-pvalues-binaria-KH.xlsx\")"
   ]
  },
  {
   "cell_type": "code",
   "execution_count": null,
   "metadata": {},
   "outputs": [],
   "source": []
  }
 ]
}