{
 "cells": [
  {
   "cell_type": "code",
   "execution_count": 1,
   "metadata": {},
   "outputs": [],
   "source": [
    "import pandas as pd\n",
    "import numpy as np"
   ]
  },
  {
   "cell_type": "markdown",
   "metadata": {},
   "source": [
    "## CLQ"
   ]
  },
  {
   "cell_type": "code",
   "execution_count": 12,
   "metadata": {},
   "outputs": [],
   "source": [
    "nestab = pd.read_stata(\"NESTAB_SHARES.dta\")\n",
    "nestab.columns = [\"cfips\", \"year\", \"manfirm_it\", \"manfirm_it_ipolate\", \"manfirm_t\", \"manfirm_share_it\"]"
   ]
  },
  {
   "cell_type": "code",
   "execution_count": 13,
   "metadata": {},
   "outputs": [],
   "source": [
    "auto = pd.read_stata(\"demography_company4_time_series_inc_county_ids_data_long_exc_missing_vpreliminary.dta\")\n",
    "auto = auto.groupby([\"cfips\", \"year\"])[[\"a\"]].sum().reset_index()\n",
    "\n",
    "total_auto = auto.groupby(\"year\").sum()[\"a\"].reset_index()\n",
    "total_auto.columns = [\"year\", \"totala\"]\n",
    "auto = auto.merge(total_auto, \"left\", \"year\")\n",
    "auto.columns = [\"cfips\", \"year\", \"autofirms_it\", \"autofirms_t\"]\n",
    "auto = auto.merge(nestab, \"left\", [\"year\", \"cfips\"])\n",
    "auto[\"clq_it\"] = auto[\"autofirms_it\"]/(auto[\"manfirm_share_it\"]*auto[\"autofirms_t\"]) #INDICE --> CONFIRMAS CON XAVIER\n"
   ]
  },
  {
   "cell_type": "code",
   "execution_count": null,
   "metadata": {},
   "outputs": [],
   "source": [
    "#Este dataset queda de 7704 porque el dataset que tiene los autofirms_it es de 7704"
   ]
  },
  {
   "cell_type": "code",
   "execution_count": 51,
   "metadata": {},
   "outputs": [],
   "source": [
    "# auto[auto.clq.notna()].sort_values(\"clq\", ascending = False).head(30)"
   ]
  },
  {
   "cell_type": "code",
   "execution_count": 52,
   "metadata": {},
   "outputs": [
    {
     "data": {
      "text/plain": [
       "<AxesSubplot:xlabel='year'>"
      ]
     },
     "execution_count": 52,
     "metadata": {},
     "output_type": "execute_result"
    },
    {
     "data": {
      "image/png": "[encoded data removed]",
      "text/plain": [
       "<Figure size 432x288 with 1 Axes>"
      ]
     },
     "metadata": {
      "needs_background": "light"
     },
     "output_type": "display_data"
    }
   ],
   "source": [
    "auto.groupby([\"year\"])[\"clq\"].sum().plot()"
   ]
  },
  {
   "cell_type": "code",
   "execution_count": 67,
   "metadata": {},
   "outputs": [
    {
     "name": "stderr",
     "output_type": "stream",
     "text": [
      "<ipython-input-67-996aca921c2f>:1: UserWarning: Pandas requires version '1.4.3' or newer of 'xlsxwriter' (version '1.3.7' currently installed).\n",
      "  auto.to_excel(\"clq.xlsx\", index = False)\n"
     ]
    }
   ],
   "source": [
    "auto.to_excel(\"clq.xlsx\", index = False)"
   ]
  },
  {
   "cell_type": "markdown",
   "metadata": {},
   "source": [
    "## RLQ"
   ]
  },
  {
   "cell_type": "code",
   "execution_count": 18,
   "metadata": {},
   "outputs": [
    {
     "name": "stderr",
     "output_type": "stream",
     "text": [
      "<ipython-input-18-2b8628b7e9fd>:2: SettingWithCopyWarning: \n",
      "A value is trying to be set on a copy of a slice from a DataFrame.\n",
      "Try using .loc[row_indexer,col_indexer] = value instead\n",
      "\n",
      "See the caveats in the documentation: https://pandas.pydata.org/pandas-docs/stable/user_guide/indexing.html#returning-a-view-versus-a-copy\n",
      "  nestab[\"nestabs\"] = (nestab[\"manfirm_share_it\"]*100000).astype(int)\n"
     ]
    }
   ],
   "source": [
    "nestab = nestab[nestab.manfirm_share_it>0]\n",
    "nestab[\"nestabs\"] = (nestab[\"manfirm_share_it\"]*100000).astype(int)"
   ]
  },
  {
   "cell_type": "code",
   "execution_count": 59,
   "metadata": {},
   "outputs": [],
   "source": [
    "alive = [4, 7, 7, 12, 31, 60, 70, 100, 126, 126, 138, 166, 205, 220, 218, 207,193, 166, 157, 139, 138, 143, 124, 119, 127, 138, 138, 109, 74, 55, 46, 38, 36, 29, 27, 27]\n",
    "alive = pd.DataFrame(zip(range(1895, 1931), alive), columns = [\"year\", \"alive\"])"
   ]
  },
  {
   "cell_type": "code",
   "execution_count": 20,
   "metadata": {},
   "outputs": [],
   "source": [
    "percentil = 0.9"
   ]
  },
  {
   "cell_type": "code",
   "execution_count": 61,
   "metadata": {},
   "outputs": [],
   "source": [
    "from tqdm import tqdm as tq"
   ]
  },
  {
   "cell_type": "code",
   "execution_count": 62,
   "metadata": {},
   "outputs": [
    {
     "name": "stderr",
     "output_type": "stream",
     "text": [
      "36it [04:53,  8.15s/it]\n"
     ]
    }
   ],
   "source": [
    "rlq = pd.DataFrame()\n",
    "\n",
    "for año,vivos in tq(zip(alive.year[0:], alive.alive[0:])):\n",
    "\n",
    "    p = nestab[nestab.year==año]\n",
    "    p_expanded = p.loc[p.index.repeat(p.nestabs)].reset_index(drop=True)\n",
    "    p_expanded = p_expanded[[\"cfips\"]]\n",
    "\n",
    "    alocaciones = len(p_expanded)\n",
    "\n",
    "    # for i in range(0,1000):\n",
    "    #     zero_positions = np.random.choice(alocaciones, vivos, replace=False)\n",
    "    #     p_expanded[f'allocation_{i}'] = 0\n",
    "    #     p_expanded.loc[zero_positions, f'allocation_{i}'] = 1\n",
    "\n",
    "    \n",
    "     # Preparar un contenedor para las nuevas columnas (usando un diccionario en este caso)\n",
    "    new_columns = {}\n",
    "\n",
    "    for i in range(0, 1000):\n",
    "        zero_positions = np.random.choice(alocaciones, vivos, replace=False)\n",
    "        new_column_data = np.zeros(alocaciones)\n",
    "        new_column_data[zero_positions] = 1\n",
    "        new_columns[f'allocation_{i}'] = new_column_data\n",
    "\n",
    "    \n",
    "    new_columns_df = pd.DataFrame(new_columns) # Convertir el diccionario en un DataFrame\n",
    "    p_expanded = pd.concat([p_expanded, new_columns_df], axis=1)  # Concatenar con el DataFrame original\n",
    "\n",
    "    \n",
    "    p_grouped = p_expanded.groupby(\"cfips\").sum()\n",
    "\n",
    "    p_grouped_tile = p_grouped.T.quantile(percentil).reset_index()\n",
    "\n",
    "    p_grouped_tile.columns = [\"cfips\", f\"p{int(percentil*100)}\"]\n",
    "\n",
    "    p_grouped_tile[\"year\"] = año\n",
    "\n",
    "    rlq = pd.concat([rlq, p_grouped_tile], axis = 0)"
   ]
  },
  {
   "cell_type": "code",
   "execution_count": 63,
   "metadata": {},
   "outputs": [],
   "source": [
    "rlqf = rlq.merge(auto[[\"cfips\", \"year\", \"autofirms_it\"]], \"left\", [\"cfips\", \"year\"]).fillna(0)"
   ]
  },
  {
   "cell_type": "code",
   "execution_count": 64,
   "metadata": {},
   "outputs": [],
   "source": [
    "rlqf[\"rlq_it\"] = rlqf[\"autofirms_it\"]/rlqf[\"p90\"]"
   ]
  },
  {
   "cell_type": "code",
   "execution_count": 65,
   "metadata": {},
   "outputs": [
    {
     "data": {
      "text/plain": [
       "<AxesSubplot:xlabel='year'>"
      ]
     },
     "execution_count": 65,
     "metadata": {},
     "output_type": "execute_result"
    },
    {
     "data": {
      "image/png": "[encoded data removed]",
      "text/plain": [
       "<Figure size 432x288 with 1 Axes>"
      ]
     },
     "metadata": {
      "needs_background": "light"
     },
     "output_type": "display_data"
    }
   ],
   "source": [
    "rlqf[(rlqf.rlq_it.notna()) & (rlqf.rlq_it!=np.inf)].groupby([\"year\"])[\"rlq_it\"].mean().plot()"
   ]
  },
  {
   "cell_type": "code",
   "execution_count": 66,
   "metadata": {},
   "outputs": [
    {
     "name": "stderr",
     "output_type": "stream",
     "text": [
      "<ipython-input-66-944b0c8832b2>:1: UserWarning: Pandas requires version '1.4.3' or newer of 'xlsxwriter' (version '1.3.7' currently installed).\n",
      "  rlqf.to_excel(\"rlq.xlsx\", index = False)\n"
     ]
    }
   ],
   "source": [
    "rlqf.to_excel(\"rlq.xlsx\", index = False)"
   ]
  },
  {
   "cell_type": "markdown",
   "metadata": {},
   "source": [
    "## PEGUE"
   ]
  },
  {
   "cell_type": "code",
   "execution_count": 2,
   "metadata": {},
   "outputs": [],
   "source": [
    "import pandas as pd"
   ]
  },
  {
   "cell_type": "code",
   "execution_count": 3,
   "metadata": {},
   "outputs": [],
   "source": [
    "dlq = pd.read_stata(\"COPB3_ESTATICO (ELQ).dta\")"
   ]
  },
  {
   "cell_type": "code",
   "execution_count": 6,
   "metadata": {},
   "outputs": [],
   "source": [
    "dlq = dlq[[\"year\", \"cfips\", \"copB2_3\"]]"
   ]
  },
  {
   "cell_type": "code",
   "execution_count": 7,
   "metadata": {},
   "outputs": [],
   "source": [
    "rlqf = pd.read_excel(\"rlq.xlsx\")"
   ]
  },
  {
   "cell_type": "code",
   "execution_count": 8,
   "metadata": {},
   "outputs": [],
   "source": [
    "auto = pd.read_excel(\"clq.xlsx\")"
   ]
  },
  {
   "cell_type": "code",
   "execution_count": 16,
   "metadata": {},
   "outputs": [],
   "source": [
    "dff = pd.merge(dlq, auto, \"outer\", [\"cfips\", \"year\"])\n",
    "dff = pd.merge(dff, rlqf, \"outer\", [\"cfips\", \"year\"])"
   ]
  },
  {
   "cell_type": "code",
   "execution_count": 17,
   "metadata": {},
   "outputs": [
    {
     "name": "stderr",
     "output_type": "stream",
     "text": [
      "<ipython-input-17-ecbdf3db4079>:2: UserWarning: Pandas requires version '1.4.3' or newer of 'xlsxwriter' (version '1.3.7' currently installed).\n",
      "  dff.to_excel(\"indices_compilation.xlsx\", index = False)\n"
     ]
    }
   ],
   "source": [
    "dff = dff[[\"year\", \"cfips\", \"copB2_3\", \"clq_it\", \"rlq_it\"]]\n",
    "dff.to_excel(\"indices_compilation.xlsx\", index = False)"
   ]
  },
  {
   "cell_type": "code",
   "execution_count": 18,
   "metadata": {},
   "outputs": [
    {
     "data": {
      "text/html": [
       "<div>\n",
       "<style scoped>\n",
       "    .dataframe tbody tr th:only-of-type {\n",
       "        vertical-align: middle;\n",
       "    }\n",
       "\n",
       "    .dataframe tbody tr th {\n",
       "        vertical-align: top;\n",
       "    }\n",
       "\n",
       "    .dataframe thead th {\n",
       "        text-align: right;\n",
       "    }\n",
       "</style>\n",
       "<table border=\"1\" class=\"dataframe\">\n",
       "  <thead>\n",
       "    <tr style=\"text-align: right;\">\n",
       "      <th></th>\n",
       "      <th>year</th>\n",
       "      <th>cfips</th>\n",
       "      <th>copB2_3</th>\n",
       "      <th>clq_it</th>\n",
       "      <th>rlq_it</th>\n",
       "    </tr>\n",
       "  </thead>\n",
       "  <tbody>\n",
       "    <tr>\n",
       "      <th>0</th>\n",
       "      <td>1908.0</td>\n",
       "      <td>18043.0</td>\n",
       "      <td>0.0</td>\n",
       "      <td>0.0</td>\n",
       "      <td>NaN</td>\n",
       "    </tr>\n",
       "    <tr>\n",
       "      <th>1</th>\n",
       "      <td>1925.0</td>\n",
       "      <td>13055.0</td>\n",
       "      <td>0.0</td>\n",
       "      <td>NaN</td>\n",
       "      <td>NaN</td>\n",
       "    </tr>\n",
       "    <tr>\n",
       "      <th>2</th>\n",
       "      <td>1910.0</td>\n",
       "      <td>47165.0</td>\n",
       "      <td>0.0</td>\n",
       "      <td>NaN</td>\n",
       "      <td>NaN</td>\n",
       "    </tr>\n",
       "    <tr>\n",
       "      <th>3</th>\n",
       "      <td>1920.0</td>\n",
       "      <td>29135.0</td>\n",
       "      <td>0.0</td>\n",
       "      <td>NaN</td>\n",
       "      <td>NaN</td>\n",
       "    </tr>\n",
       "    <tr>\n",
       "      <th>4</th>\n",
       "      <td>1910.0</td>\n",
       "      <td>31021.0</td>\n",
       "      <td>0.0</td>\n",
       "      <td>NaN</td>\n",
       "      <td>NaN</td>\n",
       "    </tr>\n",
       "    <tr>\n",
       "      <th>...</th>\n",
       "      <td>...</td>\n",
       "      <td>...</td>\n",
       "      <td>...</td>\n",
       "      <td>...</td>\n",
       "      <td>...</td>\n",
       "    </tr>\n",
       "    <tr>\n",
       "      <th>75839</th>\n",
       "      <td>1930.0</td>\n",
       "      <td>54057.0</td>\n",
       "      <td>NaN</td>\n",
       "      <td>NaN</td>\n",
       "      <td>NaN</td>\n",
       "    </tr>\n",
       "    <tr>\n",
       "      <th>75840</th>\n",
       "      <td>1930.0</td>\n",
       "      <td>54073.0</td>\n",
       "      <td>NaN</td>\n",
       "      <td>NaN</td>\n",
       "      <td>NaN</td>\n",
       "    </tr>\n",
       "    <tr>\n",
       "      <th>75841</th>\n",
       "      <td>1930.0</td>\n",
       "      <td>54079.0</td>\n",
       "      <td>NaN</td>\n",
       "      <td>NaN</td>\n",
       "      <td>NaN</td>\n",
       "    </tr>\n",
       "    <tr>\n",
       "      <th>75842</th>\n",
       "      <td>1930.0</td>\n",
       "      <td>54093.0</td>\n",
       "      <td>NaN</td>\n",
       "      <td>NaN</td>\n",
       "      <td>NaN</td>\n",
       "    </tr>\n",
       "    <tr>\n",
       "      <th>75843</th>\n",
       "      <td>1930.0</td>\n",
       "      <td>54105.0</td>\n",
       "      <td>NaN</td>\n",
       "      <td>NaN</td>\n",
       "      <td>NaN</td>\n",
       "    </tr>\n",
       "  </tbody>\n",
       "</table>\n",
       "<p>75844 rows × 5 columns</p>\n",
       "</div>"
      ],
      "text/plain": [
       "         year    cfips  copB2_3  clq_it  rlq_it\n",
       "0      1908.0  18043.0      0.0     0.0     NaN\n",
       "1      1925.0  13055.0      0.0     NaN     NaN\n",
       "2      1910.0  47165.0      0.0     NaN     NaN\n",
       "3      1920.0  29135.0      0.0     NaN     NaN\n",
       "4      1910.0  31021.0      0.0     NaN     NaN\n",
       "...       ...      ...      ...     ...     ...\n",
       "75839  1930.0  54057.0      NaN     NaN     NaN\n",
       "75840  1930.0  54073.0      NaN     NaN     NaN\n",
       "75841  1930.0  54079.0      NaN     NaN     NaN\n",
       "75842  1930.0  54093.0      NaN     NaN     NaN\n",
       "75843  1930.0  54105.0      NaN     NaN     NaN\n",
       "\n",
       "[75844 rows x 5 columns]"
      ]
     },
     "execution_count": 18,
     "metadata": {},
     "output_type": "execute_result"
    }
   ],
   "source": [
    "dff"
   ]
  },
  {
   "cell_type": "code",
   "execution_count": null,
   "metadata": {},
   "outputs": [],
   "source": []
  }
 ],
 "metadata": {
  "kernelspec": {
   "display_name": "base",
   "language": "python",
   "name": "python3"
  },
  "language_info": {
   "codemirror_mode": {
    "name": "ipython",
    "version": 3
   },
   "file_extension": ".py",
   "mimetype": "text/x-python",
   "name": "python",
   "nbconvert_exporter": "python",
   "pygments_lexer": "ipython3",
   "version": "3.8.5"
  }
 },
 "nbformat": 4,
 "nbformat_minor": 2
}
